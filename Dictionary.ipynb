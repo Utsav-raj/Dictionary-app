{
 "cells": [
  {
   "cell_type": "code",
   "execution_count": 7,
   "metadata": {},
   "outputs": [],
   "source": [
    "from tkinter import*\n"
   ]
  },
  {
   "cell_type": "code",
   "execution_count": 8,
   "metadata": {},
   "outputs": [],
   "source": [
    "from PyDictionary import PyDictionary"
   ]
  },
  {
   "cell_type": "code",
   "execution_count": 9,
   "metadata": {},
   "outputs": [],
   "source": [
    "dictionary=PyDictionary()\n",
    "root =Tk()"
   ]
  },
  {
   "cell_type": "code",
   "execution_count": 10,
   "metadata": {},
   "outputs": [],
   "source": [
    "root.geometry(\"400x400\")\n",
    "def dict():\n",
    "    meaning.config(text=dictionary.meaning(word.get())[\"Noun\"][0])\n",
    "    synonym.config(text=dictionary.synonym(word.get()))\n",
    "    antonym.config(text=dictionary.antonym(word.get()))"
   ]
  },
  {
   "cell_type": "code",
   "execution_count": null,
   "metadata": {},
   "outputs": [],
   "source": [
    "Label(root,text=\"Dictionary\",font=(\"Helvetica 20 bold\"),fg=\"Green\").pack(pady=10)\n",
    "frame =Frame(root)\n",
    "Label(frame,text=\"Type word\",font=(\"Helvetica 15 bold\")).pack(side=LEFT)\n",
    "word=Entry(frame,font=(\"Helvetica 15 bold\"))\n",
    "word.pack()\n",
    "frame.pack(pady=10)\n",
    "frame1=Frame(root)\n",
    "Label(frame1,text=\"Meaning:-\",font=(\"Helvetica 10 bold\")).pack(side=LEFT)\n",
    "meaning=Label(frame,text=\"\",font=(\"Helvetica 10\"))\n",
    "meaning.pack()\n",
    "frame1.pack(pady=10)\n",
    "frame2=Frame(root)\n",
    "Label(frame2,text=\"Synonym:-\",font=(\"Helvetica 10 bold\")).pack(side=LEFT)\n",
    "synonym=Label(frame2,text=\"\",font=(\"Helvetica 10\"))\n",
    "synonym.pack()\n",
    "frame2.pack(pady=10)\n",
    "frame3=Frame(root)\n",
    "Label(frame3,text=\"Antonym:-\",font=(\"Helvetica 10 bold\")).pack(side=LEFT)\n",
    "antonym=Label(frame3,text=\"\",font=(\"Helvetica 10\"))\n",
    "antonym.pack(side=LEFT)\n",
    "frame3.pack(pady=10)\n",
    "Button(root,text=\"Submit\",font=(\"Helvetica 15 bold\"),command=dict).pack()\n",
    "root.mainloop()\n",
    "\n"
   ]
  },
  {
   "cell_type": "code",
   "execution_count": null,
   "metadata": {},
   "outputs": [],
   "source": []
  }
 ],
 "metadata": {
  "kernelspec": {
   "display_name": "Python 3",
   "language": "python",
   "name": "python3"
  },
  "language_info": {
   "codemirror_mode": {
    "name": "ipython",
    "version": 3
   },
   "file_extension": ".py",
   "mimetype": "text/x-python",
   "name": "python",
   "nbconvert_exporter": "python",
   "pygments_lexer": "ipython3",
   "version": "3.8.3"
  }
 },
 "nbformat": 4,
 "nbformat_minor": 4
}
